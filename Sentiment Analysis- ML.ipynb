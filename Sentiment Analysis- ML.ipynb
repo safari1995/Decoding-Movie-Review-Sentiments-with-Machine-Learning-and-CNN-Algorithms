{
 "cells": [
  {
   "cell_type": "code",
   "execution_count": 1,
   "id": "3250803c",
   "metadata": {},
   "outputs": [],
   "source": [
    "import os\n",
    "from nltk.corpus import stopwords\n",
    "from nltk import word_tokenize\n",
    "from string import punctuation\n",
    "import random\n",
    "import numpy as np"
   ]
  },
  {
   "cell_type": "markdown",
   "id": "b26d515b",
   "metadata": {},
   "source": [
    "# Data Preprocessing"
   ]
  },
  {
   "cell_type": "code",
   "execution_count": 2,
   "id": "a525fa26",
   "metadata": {},
   "outputs": [],
   "source": [
    "stop_words = stopwords.words('english')"
   ]
  },
  {
   "cell_type": "code",
   "execution_count": 3,
   "id": "bf800f91",
   "metadata": {},
   "outputs": [
    {
     "data": {
      "text/plain": [
       "1000"
      ]
     },
     "execution_count": 3,
     "metadata": {},
     "output_type": "execute_result"
    }
   ],
   "source": [
    "negative_documents = []\n",
    "max_len_negative = 0\n",
    "for file in os.listdir('train_data/neg'):\n",
    "    with open('train_data/neg/' + file) as f:\n",
    "        text = f.read()\n",
    "        tokens = word_tokenize(text)\n",
    "        translator = str.maketrans('', '', punctuation)\n",
    "        tokens = [w.translate(translator) for w in tokens]\n",
    "        tokens = [w for w in tokens if not w in stop_words]\n",
    "        if len(tokens) > max_len_negative:\n",
    "            max_len_negative = len(tokens)\n",
    "        negative_documents.append(' '.join(tokens))\n",
    "len(negative_documents)"
   ]
  },
  {
   "cell_type": "code",
   "execution_count": 4,
   "id": "83024f56",
   "metadata": {},
   "outputs": [
    {
     "data": {
      "text/plain": [
       "1000"
      ]
     },
     "execution_count": 4,
     "metadata": {},
     "output_type": "execute_result"
    }
   ],
   "source": [
    "positive_documents = []\n",
    "max_len_positive = 0\n",
    "for file in os.listdir('train_data/pos'):\n",
    "    with open('train_data/pos/' + file) as f:\n",
    "        text = f.read()\n",
    "        tokens = word_tokenize(text)\n",
    "        translator = str.maketrans('', '', punctuation)\n",
    "        tokens = [w.translate(translator) for w in tokens]\n",
    "        tokens = [w for w in tokens if not w in stop_words]\n",
    "        if len(tokens) > max_len_positive:\n",
    "            max_len_positive = len(tokens)\n",
    "        positive_documents.append(' '.join(tokens))\n",
    "len(positive_documents)"
   ]
  },
  {
   "cell_type": "code",
   "execution_count": 5,
   "id": "f8a21c83",
   "metadata": {},
   "outputs": [],
   "source": [
    "X = negative_documents[:] + positive_documents[:]\n"
   ]
  },
  {
   "cell_type": "code",
   "execution_count": 6,
   "id": "8bdfa805",
   "metadata": {},
   "outputs": [],
   "source": [
    "from sklearn.feature_extraction.text import TfidfVectorizer"
   ]
  },
  {
   "cell_type": "code",
   "execution_count": 7,
   "id": "c8ee1d99",
   "metadata": {},
   "outputs": [
    {
     "data": {
      "text/html": [
       "<style>#sk-container-id-1 {\n",
       "  /* Definition of color scheme common for light and dark mode */\n",
       "  --sklearn-color-text: black;\n",
       "  --sklearn-color-line: gray;\n",
       "  /* Definition of color scheme for unfitted estimators */\n",
       "  --sklearn-color-unfitted-level-0: #fff5e6;\n",
       "  --sklearn-color-unfitted-level-1: #f6e4d2;\n",
       "  --sklearn-color-unfitted-level-2: #ffe0b3;\n",
       "  --sklearn-color-unfitted-level-3: chocolate;\n",
       "  /* Definition of color scheme for fitted estimators */\n",
       "  --sklearn-color-fitted-level-0: #f0f8ff;\n",
       "  --sklearn-color-fitted-level-1: #d4ebff;\n",
       "  --sklearn-color-fitted-level-2: #b3dbfd;\n",
       "  --sklearn-color-fitted-level-3: cornflowerblue;\n",
       "\n",
       "  /* Specific color for light theme */\n",
       "  --sklearn-color-text-on-default-background: var(--sg-text-color, var(--theme-code-foreground, var(--jp-content-font-color1, black)));\n",
       "  --sklearn-color-background: var(--sg-background-color, var(--theme-background, var(--jp-layout-color0, white)));\n",
       "  --sklearn-color-border-box: var(--sg-text-color, var(--theme-code-foreground, var(--jp-content-font-color1, black)));\n",
       "  --sklearn-color-icon: #696969;\n",
       "\n",
       "  @media (prefers-color-scheme: dark) {\n",
       "    /* Redefinition of color scheme for dark theme */\n",
       "    --sklearn-color-text-on-default-background: var(--sg-text-color, var(--theme-code-foreground, var(--jp-content-font-color1, white)));\n",
       "    --sklearn-color-background: var(--sg-background-color, var(--theme-background, var(--jp-layout-color0, #111)));\n",
       "    --sklearn-color-border-box: var(--sg-text-color, var(--theme-code-foreground, var(--jp-content-font-color1, white)));\n",
       "    --sklearn-color-icon: #878787;\n",
       "  }\n",
       "}\n",
       "\n",
       "#sk-container-id-1 {\n",
       "  color: var(--sklearn-color-text);\n",
       "}\n",
       "\n",
       "#sk-container-id-1 pre {\n",
       "  padding: 0;\n",
       "}\n",
       "\n",
       "#sk-container-id-1 input.sk-hidden--visually {\n",
       "  border: 0;\n",
       "  clip: rect(1px 1px 1px 1px);\n",
       "  clip: rect(1px, 1px, 1px, 1px);\n",
       "  height: 1px;\n",
       "  margin: -1px;\n",
       "  overflow: hidden;\n",
       "  padding: 0;\n",
       "  position: absolute;\n",
       "  width: 1px;\n",
       "}\n",
       "\n",
       "#sk-container-id-1 div.sk-dashed-wrapped {\n",
       "  border: 1px dashed var(--sklearn-color-line);\n",
       "  margin: 0 0.4em 0.5em 0.4em;\n",
       "  box-sizing: border-box;\n",
       "  padding-bottom: 0.4em;\n",
       "  background-color: var(--sklearn-color-background);\n",
       "}\n",
       "\n",
       "#sk-container-id-1 div.sk-container {\n",
       "  /* jupyter's `normalize.less` sets `[hidden] { display: none; }`\n",
       "     but bootstrap.min.css set `[hidden] { display: none !important; }`\n",
       "     so we also need the `!important` here to be able to override the\n",
       "     default hidden behavior on the sphinx rendered scikit-learn.org.\n",
       "     See: https://github.com/scikit-learn/scikit-learn/issues/21755 */\n",
       "  display: inline-block !important;\n",
       "  position: relative;\n",
       "}\n",
       "\n",
       "#sk-container-id-1 div.sk-text-repr-fallback {\n",
       "  display: none;\n",
       "}\n",
       "\n",
       "div.sk-parallel-item,\n",
       "div.sk-serial,\n",
       "div.sk-item {\n",
       "  /* draw centered vertical line to link estimators */\n",
       "  background-image: linear-gradient(var(--sklearn-color-text-on-default-background), var(--sklearn-color-text-on-default-background));\n",
       "  background-size: 2px 100%;\n",
       "  background-repeat: no-repeat;\n",
       "  background-position: center center;\n",
       "}\n",
       "\n",
       "/* Parallel-specific style estimator block */\n",
       "\n",
       "#sk-container-id-1 div.sk-parallel-item::after {\n",
       "  content: \"\";\n",
       "  width: 100%;\n",
       "  border-bottom: 2px solid var(--sklearn-color-text-on-default-background);\n",
       "  flex-grow: 1;\n",
       "}\n",
       "\n",
       "#sk-container-id-1 div.sk-parallel {\n",
       "  display: flex;\n",
       "  align-items: stretch;\n",
       "  justify-content: center;\n",
       "  background-color: var(--sklearn-color-background);\n",
       "  position: relative;\n",
       "}\n",
       "\n",
       "#sk-container-id-1 div.sk-parallel-item {\n",
       "  display: flex;\n",
       "  flex-direction: column;\n",
       "}\n",
       "\n",
       "#sk-container-id-1 div.sk-parallel-item:first-child::after {\n",
       "  align-self: flex-end;\n",
       "  width: 50%;\n",
       "}\n",
       "\n",
       "#sk-container-id-1 div.sk-parallel-item:last-child::after {\n",
       "  align-self: flex-start;\n",
       "  width: 50%;\n",
       "}\n",
       "\n",
       "#sk-container-id-1 div.sk-parallel-item:only-child::after {\n",
       "  width: 0;\n",
       "}\n",
       "\n",
       "/* Serial-specific style estimator block */\n",
       "\n",
       "#sk-container-id-1 div.sk-serial {\n",
       "  display: flex;\n",
       "  flex-direction: column;\n",
       "  align-items: center;\n",
       "  background-color: var(--sklearn-color-background);\n",
       "  padding-right: 1em;\n",
       "  padding-left: 1em;\n",
       "}\n",
       "\n",
       "\n",
       "/* Toggleable style: style used for estimator/Pipeline/ColumnTransformer box that is\n",
       "clickable and can be expanded/collapsed.\n",
       "- Pipeline and ColumnTransformer use this feature and define the default style\n",
       "- Estimators will overwrite some part of the style using the `sk-estimator` class\n",
       "*/\n",
       "\n",
       "/* Pipeline and ColumnTransformer style (default) */\n",
       "\n",
       "#sk-container-id-1 div.sk-toggleable {\n",
       "  /* Default theme specific background. It is overwritten whether we have a\n",
       "  specific estimator or a Pipeline/ColumnTransformer */\n",
       "  background-color: var(--sklearn-color-background);\n",
       "}\n",
       "\n",
       "/* Toggleable label */\n",
       "#sk-container-id-1 label.sk-toggleable__label {\n",
       "  cursor: pointer;\n",
       "  display: block;\n",
       "  width: 100%;\n",
       "  margin-bottom: 0;\n",
       "  padding: 0.5em;\n",
       "  box-sizing: border-box;\n",
       "  text-align: center;\n",
       "}\n",
       "\n",
       "#sk-container-id-1 label.sk-toggleable__label-arrow:before {\n",
       "  /* Arrow on the left of the label */\n",
       "  content: \"▸\";\n",
       "  float: left;\n",
       "  margin-right: 0.25em;\n",
       "  color: var(--sklearn-color-icon);\n",
       "}\n",
       "\n",
       "#sk-container-id-1 label.sk-toggleable__label-arrow:hover:before {\n",
       "  color: var(--sklearn-color-text);\n",
       "}\n",
       "\n",
       "/* Toggleable content - dropdown */\n",
       "\n",
       "#sk-container-id-1 div.sk-toggleable__content {\n",
       "  max-height: 0;\n",
       "  max-width: 0;\n",
       "  overflow: hidden;\n",
       "  text-align: left;\n",
       "  /* unfitted */\n",
       "  background-color: var(--sklearn-color-unfitted-level-0);\n",
       "}\n",
       "\n",
       "#sk-container-id-1 div.sk-toggleable__content.fitted {\n",
       "  /* fitted */\n",
       "  background-color: var(--sklearn-color-fitted-level-0);\n",
       "}\n",
       "\n",
       "#sk-container-id-1 div.sk-toggleable__content pre {\n",
       "  margin: 0.2em;\n",
       "  border-radius: 0.25em;\n",
       "  color: var(--sklearn-color-text);\n",
       "  /* unfitted */\n",
       "  background-color: var(--sklearn-color-unfitted-level-0);\n",
       "}\n",
       "\n",
       "#sk-container-id-1 div.sk-toggleable__content.fitted pre {\n",
       "  /* unfitted */\n",
       "  background-color: var(--sklearn-color-fitted-level-0);\n",
       "}\n",
       "\n",
       "#sk-container-id-1 input.sk-toggleable__control:checked~div.sk-toggleable__content {\n",
       "  /* Expand drop-down */\n",
       "  max-height: 200px;\n",
       "  max-width: 100%;\n",
       "  overflow: auto;\n",
       "}\n",
       "\n",
       "#sk-container-id-1 input.sk-toggleable__control:checked~label.sk-toggleable__label-arrow:before {\n",
       "  content: \"▾\";\n",
       "}\n",
       "\n",
       "/* Pipeline/ColumnTransformer-specific style */\n",
       "\n",
       "#sk-container-id-1 div.sk-label input.sk-toggleable__control:checked~label.sk-toggleable__label {\n",
       "  color: var(--sklearn-color-text);\n",
       "  background-color: var(--sklearn-color-unfitted-level-2);\n",
       "}\n",
       "\n",
       "#sk-container-id-1 div.sk-label.fitted input.sk-toggleable__control:checked~label.sk-toggleable__label {\n",
       "  background-color: var(--sklearn-color-fitted-level-2);\n",
       "}\n",
       "\n",
       "/* Estimator-specific style */\n",
       "\n",
       "/* Colorize estimator box */\n",
       "#sk-container-id-1 div.sk-estimator input.sk-toggleable__control:checked~label.sk-toggleable__label {\n",
       "  /* unfitted */\n",
       "  background-color: var(--sklearn-color-unfitted-level-2);\n",
       "}\n",
       "\n",
       "#sk-container-id-1 div.sk-estimator.fitted input.sk-toggleable__control:checked~label.sk-toggleable__label {\n",
       "  /* fitted */\n",
       "  background-color: var(--sklearn-color-fitted-level-2);\n",
       "}\n",
       "\n",
       "#sk-container-id-1 div.sk-label label.sk-toggleable__label,\n",
       "#sk-container-id-1 div.sk-label label {\n",
       "  /* The background is the default theme color */\n",
       "  color: var(--sklearn-color-text-on-default-background);\n",
       "}\n",
       "\n",
       "/* On hover, darken the color of the background */\n",
       "#sk-container-id-1 div.sk-label:hover label.sk-toggleable__label {\n",
       "  color: var(--sklearn-color-text);\n",
       "  background-color: var(--sklearn-color-unfitted-level-2);\n",
       "}\n",
       "\n",
       "/* Label box, darken color on hover, fitted */\n",
       "#sk-container-id-1 div.sk-label.fitted:hover label.sk-toggleable__label.fitted {\n",
       "  color: var(--sklearn-color-text);\n",
       "  background-color: var(--sklearn-color-fitted-level-2);\n",
       "}\n",
       "\n",
       "/* Estimator label */\n",
       "\n",
       "#sk-container-id-1 div.sk-label label {\n",
       "  font-family: monospace;\n",
       "  font-weight: bold;\n",
       "  display: inline-block;\n",
       "  line-height: 1.2em;\n",
       "}\n",
       "\n",
       "#sk-container-id-1 div.sk-label-container {\n",
       "  text-align: center;\n",
       "}\n",
       "\n",
       "/* Estimator-specific */\n",
       "#sk-container-id-1 div.sk-estimator {\n",
       "  font-family: monospace;\n",
       "  border: 1px dotted var(--sklearn-color-border-box);\n",
       "  border-radius: 0.25em;\n",
       "  box-sizing: border-box;\n",
       "  margin-bottom: 0.5em;\n",
       "  /* unfitted */\n",
       "  background-color: var(--sklearn-color-unfitted-level-0);\n",
       "}\n",
       "\n",
       "#sk-container-id-1 div.sk-estimator.fitted {\n",
       "  /* fitted */\n",
       "  background-color: var(--sklearn-color-fitted-level-0);\n",
       "}\n",
       "\n",
       "/* on hover */\n",
       "#sk-container-id-1 div.sk-estimator:hover {\n",
       "  /* unfitted */\n",
       "  background-color: var(--sklearn-color-unfitted-level-2);\n",
       "}\n",
       "\n",
       "#sk-container-id-1 div.sk-estimator.fitted:hover {\n",
       "  /* fitted */\n",
       "  background-color: var(--sklearn-color-fitted-level-2);\n",
       "}\n",
       "\n",
       "/* Specification for estimator info (e.g. \"i\" and \"?\") */\n",
       "\n",
       "/* Common style for \"i\" and \"?\" */\n",
       "\n",
       ".sk-estimator-doc-link,\n",
       "a:link.sk-estimator-doc-link,\n",
       "a:visited.sk-estimator-doc-link {\n",
       "  float: right;\n",
       "  font-size: smaller;\n",
       "  line-height: 1em;\n",
       "  font-family: monospace;\n",
       "  background-color: var(--sklearn-color-background);\n",
       "  border-radius: 1em;\n",
       "  height: 1em;\n",
       "  width: 1em;\n",
       "  text-decoration: none !important;\n",
       "  margin-left: 1ex;\n",
       "  /* unfitted */\n",
       "  border: var(--sklearn-color-unfitted-level-1) 1pt solid;\n",
       "  color: var(--sklearn-color-unfitted-level-1);\n",
       "}\n",
       "\n",
       ".sk-estimator-doc-link.fitted,\n",
       "a:link.sk-estimator-doc-link.fitted,\n",
       "a:visited.sk-estimator-doc-link.fitted {\n",
       "  /* fitted */\n",
       "  border: var(--sklearn-color-fitted-level-1) 1pt solid;\n",
       "  color: var(--sklearn-color-fitted-level-1);\n",
       "}\n",
       "\n",
       "/* On hover */\n",
       "div.sk-estimator:hover .sk-estimator-doc-link:hover,\n",
       ".sk-estimator-doc-link:hover,\n",
       "div.sk-label-container:hover .sk-estimator-doc-link:hover,\n",
       ".sk-estimator-doc-link:hover {\n",
       "  /* unfitted */\n",
       "  background-color: var(--sklearn-color-unfitted-level-3);\n",
       "  color: var(--sklearn-color-background);\n",
       "  text-decoration: none;\n",
       "}\n",
       "\n",
       "div.sk-estimator.fitted:hover .sk-estimator-doc-link.fitted:hover,\n",
       ".sk-estimator-doc-link.fitted:hover,\n",
       "div.sk-label-container:hover .sk-estimator-doc-link.fitted:hover,\n",
       ".sk-estimator-doc-link.fitted:hover {\n",
       "  /* fitted */\n",
       "  background-color: var(--sklearn-color-fitted-level-3);\n",
       "  color: var(--sklearn-color-background);\n",
       "  text-decoration: none;\n",
       "}\n",
       "\n",
       "/* Span, style for the box shown on hovering the info icon */\n",
       ".sk-estimator-doc-link span {\n",
       "  display: none;\n",
       "  z-index: 9999;\n",
       "  position: relative;\n",
       "  font-weight: normal;\n",
       "  right: .2ex;\n",
       "  padding: .5ex;\n",
       "  margin: .5ex;\n",
       "  width: min-content;\n",
       "  min-width: 20ex;\n",
       "  max-width: 50ex;\n",
       "  color: var(--sklearn-color-text);\n",
       "  box-shadow: 2pt 2pt 4pt #999;\n",
       "  /* unfitted */\n",
       "  background: var(--sklearn-color-unfitted-level-0);\n",
       "  border: .5pt solid var(--sklearn-color-unfitted-level-3);\n",
       "}\n",
       "\n",
       ".sk-estimator-doc-link.fitted span {\n",
       "  /* fitted */\n",
       "  background: var(--sklearn-color-fitted-level-0);\n",
       "  border: var(--sklearn-color-fitted-level-3);\n",
       "}\n",
       "\n",
       ".sk-estimator-doc-link:hover span {\n",
       "  display: block;\n",
       "}\n",
       "\n",
       "/* \"?\"-specific style due to the `<a>` HTML tag */\n",
       "\n",
       "#sk-container-id-1 a.estimator_doc_link {\n",
       "  float: right;\n",
       "  font-size: 1rem;\n",
       "  line-height: 1em;\n",
       "  font-family: monospace;\n",
       "  background-color: var(--sklearn-color-background);\n",
       "  border-radius: 1rem;\n",
       "  height: 1rem;\n",
       "  width: 1rem;\n",
       "  text-decoration: none;\n",
       "  /* unfitted */\n",
       "  color: var(--sklearn-color-unfitted-level-1);\n",
       "  border: var(--sklearn-color-unfitted-level-1) 1pt solid;\n",
       "}\n",
       "\n",
       "#sk-container-id-1 a.estimator_doc_link.fitted {\n",
       "  /* fitted */\n",
       "  border: var(--sklearn-color-fitted-level-1) 1pt solid;\n",
       "  color: var(--sklearn-color-fitted-level-1);\n",
       "}\n",
       "\n",
       "/* On hover */\n",
       "#sk-container-id-1 a.estimator_doc_link:hover {\n",
       "  /* unfitted */\n",
       "  background-color: var(--sklearn-color-unfitted-level-3);\n",
       "  color: var(--sklearn-color-background);\n",
       "  text-decoration: none;\n",
       "}\n",
       "\n",
       "#sk-container-id-1 a.estimator_doc_link.fitted:hover {\n",
       "  /* fitted */\n",
       "  background-color: var(--sklearn-color-fitted-level-3);\n",
       "}\n",
       "</style><div id=\"sk-container-id-1\" class=\"sk-top-container\"><div class=\"sk-text-repr-fallback\"><pre>TfidfVectorizer(ngram_range=(1, 2))</pre><b>In a Jupyter environment, please rerun this cell to show the HTML representation or trust the notebook. <br />On GitHub, the HTML representation is unable to render, please try loading this page with nbviewer.org.</b></div><div class=\"sk-container\" hidden><div class=\"sk-item\"><div class=\"sk-estimator fitted sk-toggleable\"><input class=\"sk-toggleable__control sk-hidden--visually\" id=\"sk-estimator-id-1\" type=\"checkbox\" checked><label for=\"sk-estimator-id-1\" class=\"sk-toggleable__label fitted sk-toggleable__label-arrow fitted\">&nbsp;&nbsp;TfidfVectorizer<a class=\"sk-estimator-doc-link fitted\" rel=\"noreferrer\" target=\"_blank\" href=\"https://scikit-learn.org/1.4/modules/generated/sklearn.feature_extraction.text.TfidfVectorizer.html\">?<span>Documentation for TfidfVectorizer</span></a><span class=\"sk-estimator-doc-link fitted\">i<span>Fitted</span></span></label><div class=\"sk-toggleable__content fitted\"><pre>TfidfVectorizer(ngram_range=(1, 2))</pre></div> </div></div></div></div>"
      ],
      "text/plain": [
       "TfidfVectorizer(ngram_range=(1, 2))"
      ]
     },
     "execution_count": 7,
     "metadata": {},
     "output_type": "execute_result"
    }
   ],
   "source": [
    "vectorizer = TfidfVectorizer(ngram_range=(1, 2))\n",
    "vectorizer.fit(X)"
   ]
  },
  {
   "cell_type": "code",
   "execution_count": 8,
   "id": "27688a47",
   "metadata": {},
   "outputs": [],
   "source": [
    "X = vectorizer.transform(X)"
   ]
  },
  {
   "cell_type": "code",
   "execution_count": 9,
   "id": "aa5dfee6",
   "metadata": {},
   "outputs": [
    {
     "data": {
      "text/plain": [
       "<2000x571495 sparse matrix of type '<class 'numpy.float64'>'\n",
       "\twith 1212450 stored elements in Compressed Sparse Row format>"
      ]
     },
     "execution_count": 9,
     "metadata": {},
     "output_type": "execute_result"
    }
   ],
   "source": [
    "X"
   ]
  },
  {
   "cell_type": "code",
   "execution_count": 10,
   "id": "f4994aee",
   "metadata": {},
   "outputs": [],
   "source": [
    "import numpy as np"
   ]
  },
  {
   "cell_type": "code",
   "execution_count": 11,
   "id": "fc80c0c1",
   "metadata": {},
   "outputs": [],
   "source": [
    "y = np.concatenate((np.zeros(1000),np.ones(1000)) , axis=0)"
   ]
  },
  {
   "cell_type": "code",
   "execution_count": 12,
   "id": "a0bd2be6",
   "metadata": {},
   "outputs": [],
   "source": [
    "from sklearn.model_selection import train_test_split"
   ]
  },
  {
   "cell_type": "code",
   "execution_count": 13,
   "id": "1baec340",
   "metadata": {},
   "outputs": [],
   "source": [
    "X_train, X_test, y_train, y_test = train_test_split(X, y)"
   ]
  },
  {
   "cell_type": "markdown",
   "id": "7d2d849b",
   "metadata": {},
   "source": [
    "# SVC"
   ]
  },
  {
   "cell_type": "code",
   "execution_count": 14,
   "id": "f28e4f20",
   "metadata": {},
   "outputs": [],
   "source": [
    "from sklearn import svm"
   ]
  },
  {
   "cell_type": "code",
   "execution_count": 15,
   "id": "20f5101a",
   "metadata": {},
   "outputs": [
    {
     "name": "stdout",
     "output_type": "stream",
     "text": [
      "[LibSVM]"
     ]
    },
    {
     "data": {
      "text/plain": [
       "1.0"
      ]
     },
     "execution_count": 15,
     "metadata": {},
     "output_type": "execute_result"
    }
   ],
   "source": [
    "svmc = svm.SVC(verbose=True, C=1 , kernel='linear' , cache_size=1000 , random_state=333)\n",
    "svmc.fit(X_train, y_train)\n",
    "svmc.score(X_train, y_train)"
   ]
  },
  {
   "cell_type": "code",
   "execution_count": 16,
   "id": "05e52aa1",
   "metadata": {},
   "outputs": [
    {
     "data": {
      "text/plain": [
       "0.876"
      ]
     },
     "execution_count": 16,
     "metadata": {},
     "output_type": "execute_result"
    }
   ],
   "source": [
    "svmc.score(X_test, y_test)"
   ]
  },
  {
   "cell_type": "code",
   "execution_count": 48,
   "id": "55a928f3",
   "metadata": {},
   "outputs": [],
   "source": [
    "y_pred_svm = svmc.predict(X_test)"
   ]
  },
  {
   "cell_type": "markdown",
   "id": "9047da98",
   "metadata": {},
   "source": [
    "# DT"
   ]
  },
  {
   "cell_type": "code",
   "execution_count": 19,
   "id": "de9ec044",
   "metadata": {},
   "outputs": [],
   "source": [
    "from sklearn import tree"
   ]
  },
  {
   "cell_type": "code",
   "execution_count": 20,
   "id": "60d974d7",
   "metadata": {},
   "outputs": [
    {
     "data": {
      "text/plain": [
       "0.9446666666666667"
      ]
     },
     "execution_count": 20,
     "metadata": {},
     "output_type": "execute_result"
    }
   ],
   "source": [
    "dt = tree.DecisionTreeClassifier( criterion='entropy', splitter='best', max_depth=None , min_samples_split=10, min_samples_leaf=5, random_state=111, ccp_alpha=0.0)\n",
    "dt.fit(X_train, y_train)\n",
    "dt.score(X_train, y_train)"
   ]
  },
  {
   "cell_type": "code",
   "execution_count": 21,
   "id": "19b78656",
   "metadata": {},
   "outputs": [
    {
     "data": {
      "text/plain": [
       "0.618"
      ]
     },
     "execution_count": 21,
     "metadata": {},
     "output_type": "execute_result"
    }
   ],
   "source": [
    "dt.score(X_test, y_test)"
   ]
  },
  {
   "cell_type": "code",
   "execution_count": 49,
   "id": "a1300b2a",
   "metadata": {},
   "outputs": [],
   "source": [
    "y_pred_dt = dt.predict(X_test)"
   ]
  },
  {
   "cell_type": "markdown",
   "id": "da3da6a4",
   "metadata": {},
   "source": [
    "# Random Forest"
   ]
  },
  {
   "cell_type": "code",
   "execution_count": 23,
   "id": "4a16aa1f",
   "metadata": {},
   "outputs": [],
   "source": [
    "from sklearn.ensemble import RandomForestClassifier"
   ]
  },
  {
   "cell_type": "code",
   "execution_count": 24,
   "id": "5518818d",
   "metadata": {},
   "outputs": [
    {
     "name": "stderr",
     "output_type": "stream",
     "text": [
      "[Parallel(n_jobs=-1)]: Using backend ThreadingBackend with 8 concurrent workers.\n",
      "[Parallel(n_jobs=-1)]: Done  34 tasks      | elapsed:    0.5s\n",
      "[Parallel(n_jobs=-1)]: Done 100 out of 100 | elapsed:    1.3s finished\n",
      "[Parallel(n_jobs=8)]: Using backend ThreadingBackend with 8 concurrent workers.\n",
      "[Parallel(n_jobs=8)]: Done  34 tasks      | elapsed:    0.6s\n",
      "[Parallel(n_jobs=8)]: Done 100 out of 100 | elapsed:    1.5s finished\n"
     ]
    },
    {
     "data": {
      "text/plain": [
       "0.9353333333333333"
      ]
     },
     "execution_count": 24,
     "metadata": {},
     "output_type": "execute_result"
    }
   ],
   "source": [
    "rf = RandomForestClassifier(n_estimators=100, criterion='gini', max_depth=None, min_samples_split=100, min_samples_leaf=10, max_features='sqrt', max_leaf_nodes=None , bootstrap=True, n_jobs=-1, random_state=220, verbose=1)\n",
    "rf.fit(X_train, y_train)\n",
    "rf.score(X_train, y_train)"
   ]
  },
  {
   "cell_type": "code",
   "execution_count": 25,
   "id": "14fc4e76",
   "metadata": {},
   "outputs": [
    {
     "name": "stderr",
     "output_type": "stream",
     "text": [
      "[Parallel(n_jobs=8)]: Using backend ThreadingBackend with 8 concurrent workers.\n",
      "[Parallel(n_jobs=8)]: Done  34 tasks      | elapsed:    0.1s\n",
      "[Parallel(n_jobs=8)]: Done 100 out of 100 | elapsed:    0.5s finished\n"
     ]
    },
    {
     "data": {
      "text/plain": [
       "0.804"
      ]
     },
     "execution_count": 25,
     "metadata": {},
     "output_type": "execute_result"
    }
   ],
   "source": [
    "rf.score(X_test, y_test)"
   ]
  },
  {
   "cell_type": "code",
   "execution_count": 50,
   "id": "3e5e8b91",
   "metadata": {},
   "outputs": [
    {
     "name": "stderr",
     "output_type": "stream",
     "text": [
      "[Parallel(n_jobs=8)]: Using backend ThreadingBackend with 8 concurrent workers.\n",
      "[Parallel(n_jobs=8)]: Done  34 tasks      | elapsed:    0.1s\n",
      "[Parallel(n_jobs=8)]: Done 100 out of 100 | elapsed:    0.4s finished\n"
     ]
    }
   ],
   "source": [
    "y_pred_rf = rf.predict(X_test)"
   ]
  },
  {
   "cell_type": "markdown",
   "id": "7a810e86",
   "metadata": {},
   "source": [
    "# CatBoost Classifier"
   ]
  },
  {
   "cell_type": "code",
   "execution_count": 27,
   "id": "3a164d9f",
   "metadata": {},
   "outputs": [],
   "source": [
    "from catboost import CatBoostClassifier"
   ]
  },
  {
   "cell_type": "code",
   "execution_count": 46,
   "id": "bf795af5",
   "metadata": {},
   "outputs": [],
   "source": [
    "cat = CatBoostClassifier(iterations=61,\n",
    "                         learning_rate=0.1,\n",
    "                         depth=None,\n",
    "                         loss_function=None,\n",
    "                         use_best_model=None,\n",
    "                         verbose=None,\n",
    "                         eval_metric='Accuracy',\n",
    "                         boosting_type=None,\n",
    "                         bootstrap_type=None,\n",
    "                         max_depth=None,\n",
    "                         n_estimators=None,\n",
    "                         num_trees=None,\n",
    "                         random_state=1111,\n",
    "                         reg_lambda=None,\n",
    "                         objective=None,\n",
    "                         cat_features=None,\n",
    "                         grow_policy=None,\n",
    "                         min_data_in_leaf=10,\n",
    "                         min_child_samples=None,\n",
    "                         score_function=None,\n",
    "                         task_type=None\n",
    "                         )"
   ]
  },
  {
   "cell_type": "code",
   "execution_count": 47,
   "id": "eae72841",
   "metadata": {},
   "outputs": [
    {
     "data": {
      "application/vnd.jupyter.widget-view+json": {
       "model_id": "ba5073e18d424593bf6f95b0456edc4b",
       "version_major": 2,
       "version_minor": 0
      },
      "text/plain": [
       "MetricVisualizer(layout=Layout(align_self='stretch', height='500px'))"
      ]
     },
     "metadata": {},
     "output_type": "display_data"
    },
    {
     "name": "stdout",
     "output_type": "stream",
     "text": [
      "0:\tlearn: 0.6653333\ttest: 0.6480000\tbest: 0.6480000 (0)\ttotal: 1.51s\tremaining: 1m 30s\n",
      "1:\tlearn: 0.6700000\ttest: 0.6420000\tbest: 0.6480000 (0)\ttotal: 2.92s\tremaining: 1m 26s\n",
      "2:\tlearn: 0.6780000\ttest: 0.6600000\tbest: 0.6600000 (2)\ttotal: 4.23s\tremaining: 1m 21s\n",
      "3:\tlearn: 0.6913333\ttest: 0.6760000\tbest: 0.6760000 (3)\ttotal: 5.53s\tremaining: 1m 18s\n",
      "4:\tlearn: 0.7066667\ttest: 0.6960000\tbest: 0.6960000 (4)\ttotal: 6.82s\tremaining: 1m 16s\n",
      "5:\tlearn: 0.7260000\ttest: 0.7000000\tbest: 0.7000000 (5)\ttotal: 8.1s\tremaining: 1m 14s\n",
      "6:\tlearn: 0.7266667\ttest: 0.7000000\tbest: 0.7000000 (5)\ttotal: 9.4s\tremaining: 1m 12s\n",
      "7:\tlearn: 0.7433333\ttest: 0.7160000\tbest: 0.7160000 (7)\ttotal: 10.8s\tremaining: 1m 11s\n",
      "8:\tlearn: 0.7586667\ttest: 0.7140000\tbest: 0.7160000 (7)\ttotal: 12.1s\tremaining: 1m 9s\n",
      "9:\tlearn: 0.7600000\ttest: 0.7180000\tbest: 0.7180000 (9)\ttotal: 13.4s\tremaining: 1m 8s\n",
      "10:\tlearn: 0.7573333\ttest: 0.7220000\tbest: 0.7220000 (10)\ttotal: 14.7s\tremaining: 1m 6s\n",
      "11:\tlearn: 0.7653333\ttest: 0.7280000\tbest: 0.7280000 (11)\ttotal: 16s\tremaining: 1m 5s\n",
      "12:\tlearn: 0.7726667\ttest: 0.7260000\tbest: 0.7280000 (11)\ttotal: 17.4s\tremaining: 1m 4s\n",
      "13:\tlearn: 0.7780000\ttest: 0.7320000\tbest: 0.7320000 (13)\ttotal: 18.7s\tremaining: 1m 2s\n",
      "14:\tlearn: 0.7826667\ttest: 0.7280000\tbest: 0.7320000 (13)\ttotal: 20s\tremaining: 1m 1s\n",
      "15:\tlearn: 0.7900000\ttest: 0.7360000\tbest: 0.7360000 (15)\ttotal: 21.3s\tremaining: 59.9s\n",
      "16:\tlearn: 0.7926667\ttest: 0.7380000\tbest: 0.7380000 (16)\ttotal: 22.6s\tremaining: 58.5s\n",
      "17:\tlearn: 0.7953333\ttest: 0.7360000\tbest: 0.7380000 (16)\ttotal: 23.9s\tremaining: 57.1s\n",
      "18:\tlearn: 0.7953333\ttest: 0.7380000\tbest: 0.7380000 (16)\ttotal: 25.2s\tremaining: 55.7s\n",
      "19:\tlearn: 0.8033333\ttest: 0.7480000\tbest: 0.7480000 (19)\ttotal: 26.6s\tremaining: 54.5s\n",
      "20:\tlearn: 0.7980000\ttest: 0.7460000\tbest: 0.7480000 (19)\ttotal: 27.8s\tremaining: 53s\n",
      "21:\tlearn: 0.8100000\ttest: 0.7480000\tbest: 0.7480000 (19)\ttotal: 29.1s\tremaining: 51.7s\n",
      "22:\tlearn: 0.8086667\ttest: 0.7460000\tbest: 0.7480000 (19)\ttotal: 30.4s\tremaining: 50.3s\n",
      "23:\tlearn: 0.8133333\ttest: 0.7540000\tbest: 0.7540000 (23)\ttotal: 31.8s\tremaining: 49s\n",
      "24:\tlearn: 0.8146667\ttest: 0.7560000\tbest: 0.7560000 (24)\ttotal: 33.1s\tremaining: 47.6s\n",
      "25:\tlearn: 0.8246667\ttest: 0.7680000\tbest: 0.7680000 (25)\ttotal: 34.4s\tremaining: 46.3s\n",
      "26:\tlearn: 0.8240000\ttest: 0.7700000\tbest: 0.7700000 (26)\ttotal: 35.7s\tremaining: 44.9s\n",
      "27:\tlearn: 0.8340000\ttest: 0.7680000\tbest: 0.7700000 (26)\ttotal: 37s\tremaining: 43.6s\n",
      "28:\tlearn: 0.8380000\ttest: 0.7640000\tbest: 0.7700000 (26)\ttotal: 38.3s\tremaining: 42.2s\n",
      "29:\tlearn: 0.8446667\ttest: 0.7700000\tbest: 0.7700000 (26)\ttotal: 39.6s\tremaining: 40.9s\n",
      "30:\tlearn: 0.8480000\ttest: 0.7640000\tbest: 0.7700000 (26)\ttotal: 40.9s\tremaining: 39.6s\n",
      "31:\tlearn: 0.8486667\ttest: 0.7640000\tbest: 0.7700000 (26)\ttotal: 42.2s\tremaining: 38.2s\n",
      "32:\tlearn: 0.8520000\ttest: 0.7680000\tbest: 0.7700000 (26)\ttotal: 43.5s\tremaining: 36.9s\n",
      "33:\tlearn: 0.8553333\ttest: 0.7660000\tbest: 0.7700000 (26)\ttotal: 44.8s\tremaining: 35.6s\n",
      "34:\tlearn: 0.8606667\ttest: 0.7640000\tbest: 0.7700000 (26)\ttotal: 46.1s\tremaining: 34.2s\n",
      "35:\tlearn: 0.8660000\ttest: 0.7780000\tbest: 0.7780000 (35)\ttotal: 47.4s\tremaining: 32.9s\n",
      "36:\tlearn: 0.8693333\ttest: 0.7820000\tbest: 0.7820000 (36)\ttotal: 48.7s\tremaining: 31.6s\n",
      "37:\tlearn: 0.8740000\ttest: 0.7820000\tbest: 0.7820000 (36)\ttotal: 50s\tremaining: 30.3s\n",
      "38:\tlearn: 0.8766667\ttest: 0.7860000\tbest: 0.7860000 (38)\ttotal: 51.3s\tremaining: 28.9s\n",
      "39:\tlearn: 0.8753333\ttest: 0.7860000\tbest: 0.7860000 (38)\ttotal: 52.6s\tremaining: 27.6s\n",
      "40:\tlearn: 0.8813333\ttest: 0.7840000\tbest: 0.7860000 (38)\ttotal: 53.9s\tremaining: 26.3s\n",
      "41:\tlearn: 0.8820000\ttest: 0.7900000\tbest: 0.7900000 (41)\ttotal: 55.2s\tremaining: 25s\n",
      "42:\tlearn: 0.8820000\ttest: 0.7960000\tbest: 0.7960000 (42)\ttotal: 56.5s\tremaining: 23.7s\n",
      "43:\tlearn: 0.8820000\ttest: 0.7960000\tbest: 0.7960000 (42)\ttotal: 57.8s\tremaining: 22.3s\n",
      "44:\tlearn: 0.8826667\ttest: 0.8000000\tbest: 0.8000000 (44)\ttotal: 59.1s\tremaining: 21s\n",
      "45:\tlearn: 0.8846667\ttest: 0.8000000\tbest: 0.8000000 (44)\ttotal: 1m\tremaining: 19.7s\n",
      "46:\tlearn: 0.8880000\ttest: 0.8020000\tbest: 0.8020000 (46)\ttotal: 1m 1s\tremaining: 18.4s\n",
      "47:\tlearn: 0.8926667\ttest: 0.8040000\tbest: 0.8040000 (47)\ttotal: 1m 3s\tremaining: 17.1s\n",
      "48:\tlearn: 0.8960000\ttest: 0.8020000\tbest: 0.8040000 (47)\ttotal: 1m 4s\tremaining: 15.8s\n",
      "49:\tlearn: 0.9000000\ttest: 0.8060000\tbest: 0.8060000 (49)\ttotal: 1m 5s\tremaining: 14.4s\n",
      "50:\tlearn: 0.9040000\ttest: 0.8120000\tbest: 0.8120000 (50)\ttotal: 1m 6s\tremaining: 13.1s\n",
      "51:\tlearn: 0.9060000\ttest: 0.8060000\tbest: 0.8120000 (50)\ttotal: 1m 8s\tremaining: 11.8s\n",
      "52:\tlearn: 0.9073333\ttest: 0.8040000\tbest: 0.8120000 (50)\ttotal: 1m 9s\tremaining: 10.5s\n",
      "53:\tlearn: 0.9160000\ttest: 0.8060000\tbest: 0.8120000 (50)\ttotal: 1m 10s\tremaining: 9.19s\n",
      "54:\tlearn: 0.9146667\ttest: 0.8100000\tbest: 0.8120000 (50)\ttotal: 1m 12s\tremaining: 7.87s\n",
      "55:\tlearn: 0.9133333\ttest: 0.8120000\tbest: 0.8120000 (50)\ttotal: 1m 13s\tremaining: 6.56s\n",
      "56:\tlearn: 0.9180000\ttest: 0.8140000\tbest: 0.8140000 (56)\ttotal: 1m 14s\tremaining: 5.25s\n",
      "57:\tlearn: 0.9206667\ttest: 0.8100000\tbest: 0.8140000 (56)\ttotal: 1m 16s\tremaining: 3.94s\n",
      "58:\tlearn: 0.9206667\ttest: 0.8120000\tbest: 0.8140000 (56)\ttotal: 1m 17s\tremaining: 2.62s\n",
      "59:\tlearn: 0.9240000\ttest: 0.8180000\tbest: 0.8180000 (59)\ttotal: 1m 18s\tremaining: 1.31s\n",
      "60:\tlearn: 0.9233333\ttest: 0.8220000\tbest: 0.8220000 (60)\ttotal: 1m 20s\tremaining: 0us\n",
      "\n",
      "bestTest = 0.822\n",
      "bestIteration = 60\n",
      "\n"
     ]
    },
    {
     "data": {
      "text/plain": [
       "<catboost.core.CatBoostClassifier at 0x12f76c80b50>"
      ]
     },
     "execution_count": 47,
     "metadata": {},
     "output_type": "execute_result"
    }
   ],
   "source": [
    "cat.fit(X_train , y_train , eval_set=(X_test,y_test) , plot=True )"
   ]
  },
  {
   "cell_type": "code",
   "execution_count": 51,
   "id": "60151853",
   "metadata": {},
   "outputs": [],
   "source": [
    "y_pred_cat = cat.predict(X_test)"
   ]
  },
  {
   "cell_type": "markdown",
   "id": "aaf5a49b",
   "metadata": {},
   "source": [
    "# Classification Report for Models"
   ]
  },
  {
   "cell_type": "code",
   "execution_count": 59,
   "id": "2fc3230f",
   "metadata": {
    "scrolled": true
   },
   "outputs": [
    {
     "name": "stdout",
     "output_type": "stream",
     "text": [
      "SVM:               precision    recall  f1-score   support\n",
      "\n",
      "         0.0       0.89      0.86      0.88       253\n",
      "         1.0       0.86      0.89      0.88       247\n",
      "\n",
      "    accuracy                           0.88       500\n",
      "   macro avg       0.88      0.88      0.88       500\n",
      "weighted avg       0.88      0.88      0.88       500\n",
      "\n",
      "\n",
      "CAT:               precision    recall  f1-score   support\n",
      "\n",
      "         0.0       0.88      0.75      0.81       253\n",
      "         1.0       0.78      0.90      0.83       247\n",
      "\n",
      "    accuracy                           0.82       500\n",
      "   macro avg       0.83      0.82      0.82       500\n",
      "weighted avg       0.83      0.82      0.82       500\n",
      "\n",
      "\n",
      "RF:               precision    recall  f1-score   support\n",
      "\n",
      "         0.0       0.80      0.81      0.81       253\n",
      "         1.0       0.80      0.80      0.80       247\n",
      "\n",
      "    accuracy                           0.80       500\n",
      "   macro avg       0.80      0.80      0.80       500\n",
      "weighted avg       0.80      0.80      0.80       500\n",
      "\n",
      "\n",
      "DT:               precision    recall  f1-score   support\n",
      "\n",
      "         0.0       0.64      0.57      0.60       253\n",
      "         1.0       0.60      0.67      0.63       247\n",
      "\n",
      "    accuracy                           0.62       500\n",
      "   macro avg       0.62      0.62      0.62       500\n",
      "weighted avg       0.62      0.62      0.62       500\n",
      "\n"
     ]
    }
   ],
   "source": [
    "from sklearn.metrics import classification_report, confusion_matrix\n",
    "print('SVM:',classification_report(y_test, y_pred_svm))\n",
    "print()\n",
    "print('CAT:',classification_report(y_test, y_pred_cat)) \n",
    "print()\n",
    "print('RF:' , classification_report(y_test, y_pred_rf))\n",
    "print()\n",
    "print('DT:' , classification_report(y_test, y_pred_dt))\n",
    "     "
   ]
  }
 ],
 "metadata": {
  "kernelspec": {
   "display_name": "Python 3 (ipykernel)",
   "language": "python",
   "name": "python3"
  },
  "language_info": {
   "codemirror_mode": {
    "name": "ipython",
    "version": 3
   },
   "file_extension": ".py",
   "mimetype": "text/x-python",
   "name": "python",
   "nbconvert_exporter": "python",
   "pygments_lexer": "ipython3",
   "version": "3.9.7"
  }
 },
 "nbformat": 4,
 "nbformat_minor": 5
}
